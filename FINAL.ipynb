{
 "cells": [
  {
   "cell_type": "markdown",
   "id": "d5c00c5d-9192-4610-b780-479ff8286b7d",
   "metadata": {
    "jp-MarkdownHeadingCollapsed": true
   },
   "source": [
    "# The Idea\n",
    "The main idea of this project is to simulate the heating of steak to find the optimal conditions for cooking it to a medium-rare rarity."
   ]
  },
  {
   "cell_type": "markdown",
   "id": "77c42f01-8da2-4d43-aa0a-59051367603e",
   "metadata": {
    "jp-MarkdownHeadingCollapsed": true
   },
   "source": [
    "# Preamble\n",
    "We import dependencies and define constants and dictionaries here."
   ]
  },
  {
   "cell_type": "markdown",
   "id": "bddb9b21-324e-414f-9efd-2087c3b9c4e3",
   "metadata": {
    "jp-MarkdownHeadingCollapsed": true
   },
   "source": [
    "## Importing Packages"
   ]
  },
  {
   "cell_type": "code",
   "execution_count": 69,
   "id": "f0d232a8-1d68-43d9-8018-17f3aeea8c1a",
   "metadata": {},
   "outputs": [],
   "source": [
    "import copy\n",
    "import random\n",
    "import numpy as np\n",
    "import matplotlib.pyplot as plt\n",
    "import math"
   ]
  },
  {
   "cell_type": "markdown",
   "id": "be3fdf8e-e169-421f-963f-197dc7c8c0bf",
   "metadata": {},
   "source": [
    "## Defining Constants"
   ]
  },
  {
   "cell_type": "code",
   "execution_count": 50,
   "id": "7e3bea20-f797-4a12-a5e3-31df14f0cca2",
   "metadata": {},
   "outputs": [],
   "source": [
    "# fat\n",
    "fat_shc = 1.9842e3 # J kg-1 K-1\n",
    "fat_tc = 1.8071e-1 # W m-1 K-1\n",
    "fat_density = 9.2559e2 # kg m-3\n",
    "\n",
    "# protein\n",
    "protein_shc = 2.0082e3 # J kg-1 K-1\n",
    "protein_tc = 1.7881e-1 # W m-1 K-1\n",
    "protein_density = 1.3299e3 # kg m-3\n",
    "\n",
    "# water\n",
    "water_shc = 4.184e3 # J kg-1 K-1\n",
    "water_tc = 6e-1 # W m-1 K-1\n",
    "water_density = 9.97e2 # kg m-3\n",
    "\n",
    "# pixel\n",
    "pixel_side_length = 0.0025 # meter\n",
    "\n",
    "# temperatures\n",
    "max_temperature = 250 # celsius\n",
    "room_temperature = 25 # celsius\n",
    "heating_temperature = 230 # celsius\n",
    "ideal_internal_temperature = 60 # celsius\n",
    "\n",
    "# temperature thresholds\n",
    "maillard_temp = 130 # celsius\n",
    "burnt_temp = 175 # celcius\n",
    "\n",
    "# composition\n",
    "fat_percentage = .09\n",
    "water_percentage = .69\n",
    "protein_percentage = 1 - fat_percentage - water_percentage"
   ]
  },
  {
   "cell_type": "markdown",
   "id": "7dab0034-57be-49f2-b09b-2a18bdfb99d5",
   "metadata": {},
   "source": [
    "## Defining Dictionaries\n",
    "In the following we define the `pxl_type` dictionary that map integer numbers to each pixel type as well as a `colors_dict` dictionary that gives us easy access to rbg values of commonly used colors "
   ]
  },
  {
   "cell_type": "code",
   "execution_count": 84,
   "id": "32215948-4bcc-46a5-80cd-9b76b2568ea3",
   "metadata": {},
   "outputs": [],
   "source": [
    "pxl_type = {\n",
    "        \"source\" : 0,\n",
    "        \"fat\" : 1,\n",
    "        \"protein\" : 2,\n",
    "        \"water\" : 3,\n",
    "        \"maillard\" : 4,\n",
    "        \"burnt\" : 5\n",
    "    }\n",
    "\n",
    "colors_dict = {\n",
    "        \"GOLD\" : [153/255,101/255,21/255],\n",
    "        \"BLACK\": [0,0,0],\n",
    "        \"RED\": [255/255,0,0],\n",
    "        \"RAW_COLOR\": [230/255,117/255,122/255], # light pink\n",
    "        \"INNER_COOKED_COLOR\": [158/255,155/255,147/255], # grey\n",
    "        \"OUTER_COOKED_COLOR\": [94/255,65/255,37/255],\n",
    "        \"FAT\": [244/255,180/255,0],\n",
    "        \"WATER\": [159/255,197/255,232/255],\n",
    "        \"PROTEIN\": [120/255,11/255,17/255]\n",
    "    }"
   ]
  },
  {
   "cell_type": "markdown",
   "id": "2b4af61d-7370-4039-8ff9-f64835718399",
   "metadata": {
    "jp-MarkdownHeadingCollapsed": true
   },
   "source": [
    "# Creating a Pixel ADT\n",
    "Here we define the pixel ADT.\\\n",
    "**Constructor**\\\n",
    "`create_pixel(temperature, thermal_conductivity, specific_heat_capacity, density, pixel_type, outer)` -> pixel\\\n",
    "**Accessors**\\\n",
    "`get_temp(pixel)` -> temperature (float)\\\n",
    "`get_tc(pixel)` -> thermal conductivity (float)\\\n",
    "`get_shc(pixel)` => specific heat capacity (float)\\\n",
    "`get_density(pixel)` -> density (float)\\\n",
    "`get_type(pixel)` -> pixel_type (int)\\\n",
    "`get_outer(pixel)` -> outer layer source or not (int)\\\n",
    "**Modifiers**\\\n",
    "`change_temp(pixel, new_temp)` -> None\\\n",
    "`change_pxl_type(pixel, new_type)` -> None"
   ]
  },
  {
   "cell_type": "code",
   "execution_count": 4,
   "id": "ce398505-9108-4566-a36e-828c138fd805",
   "metadata": {},
   "outputs": [],
   "source": [
    "# =================================\n",
    "# Constructor\n",
    "# =================================\n",
    "\n",
    "def create_pixel(temperature, thermal_conductivity, specific_heat_capacity, density, pxl_type_str, outer):\n",
    "    return [temperature,\n",
    "            thermal_conductivity,\n",
    "            specific_heat_capacity,\n",
    "            density,\n",
    "            pxl_type[pxl_type_str],\n",
    "            outer]\n",
    "\n",
    "# =================================\n",
    "# Accessors\n",
    "# =================================\n",
    "\n",
    "def get_temp(pixel):\n",
    "    return pixel[0]\n",
    "\n",
    "def get_tc(pixel):\n",
    "    return pixel[1]\n",
    "\n",
    "def get_shc(pixel):\n",
    "    return pixel[2]\n",
    "\n",
    "def get_density(pixel):\n",
    "    return pixel[3]\n",
    "\n",
    "def get_type(pixel):\n",
    "    return pixel[4]\n",
    "\n",
    "def get_outer(pixel):\n",
    "    return pixel[5]\n",
    "\n",
    "# =================================\n",
    "# Modifiers\n",
    "# =================================\n",
    "\n",
    "def change_temp(pxl, new_temp):\n",
    "    pxl[0] = new_temp\n",
    "\n",
    "def change_pxl_type(pxl,pxl_type_str):\n",
    "    pxl[4] = pxl_type[pxl_type_str]"
   ]
  },
  {
   "cell_type": "markdown",
   "id": "d54f2b18-154c-48ac-bded-ae8a00fd1929",
   "metadata": {
    "jp-MarkdownHeadingCollapsed": true
   },
   "source": [
    "# Creating a Steak\n",
    "Here we define a function `create_steak` that returns a 2-d list of pixel ADTs with `height` rows and `width` columns.\n",
    "\n",
    "`create_steak(height, width)` -> 3-d list\n",
    "\n",
    "This steak will have a randomly distributed composition of water, fat, and protein based on `fat_percentage`, `water_percentage`, and `protein_percentage`."
   ]
  },
  {
   "cell_type": "code",
   "execution_count": 5,
   "id": "13ae9b64-02cd-4422-af6e-27d4404a45c5",
   "metadata": {},
   "outputs": [],
   "source": [
    "def create_steak(height, width):\n",
    "    res = []\n",
    "    for i in range(height + 1):\n",
    "        # we define the outer threshold as the 1/8 outer layers of the steak\n",
    "        outer = True if i < height * 1/8 or i > height * (1 - 1/8) - 1 else False\n",
    "        tmp = []\n",
    "        for j in range(width):\n",
    "            if i < height:\n",
    "                random_float = random.random()\n",
    "                # randomly assign pixel type based on composition percentages\n",
    "                if random_float < fat_percentage:\n",
    "                    tmp.append(create_pixel(room_temperature,fat_tc,fat_shc, fat_density, \"fat\", outer))\n",
    "                elif fat_percentage <= random_float < fat_percentage + water_percentage:\n",
    "                    tmp.append(create_pixel(room_temperature,water_tc,water_shc, water_density, \"water\", outer))\n",
    "                else:\n",
    "                    tmp.append(create_pixel(room_temperature,protein_tc,protein_shc, protein_density, \"protein\", outer))\n",
    "            else:\n",
    "                # last layer (layer height + 1) is the heat source\n",
    "                tmp.append(create_pixel(heating_temperature,0,0,0,\"source\",False))\n",
    "        res.append(tmp)\n",
    "    return res"
   ]
  },
  {
   "cell_type": "markdown",
   "id": "01f60ee9-57fc-4a54-917c-f451600bf540",
   "metadata": {
    "jp-MarkdownHeadingCollapsed": true
   },
   "source": [
    "# Changing Temperatures\n",
    "Here we define a function `step_pixel` that returns the final temperature of a target pixel after a timestep of `t`.\n",
    "\n",
    "`step_pixel(steak, i, j, timestep)` -> final_temperature (float)\n",
    "\n",
    "The function first finds the heat gain of the target pixel $Q_{\\text{gain}}$ using the following equation:\n",
    "$$Q_{\\text{gain}}=\\sum_{i}\\left(k_{i,*}\\cdot A\\cdot\\frac{\\Delta T_{i,*}}{\\Delta x}\\cdot t\\right)$$\n",
    "Where\n",
    "* $k_{i,*}$ is the average thermal conductivity constant between pixel `i` and the pixel of interest,\n",
    "* $A$ is the surface area of contact between pixels, modelled here as $(\\Delta x)^2$,\n",
    "* $\\Delta T_{i,*}$ is $T_i - T_*$ where $T_i$ and $T_*$ is the temperature of the surrounding pixels and the pixel of interest at $t_0$ respectively, and\n",
    "* $\\Delta x$ is the pixel side length\n",
    "\n",
    "It then finds the change in temperature $\\Delta T$ using the following equation:\n",
    "$$\\Delta T = \\frac{Q_{\\text{gain}}}{\\rho\\cdot V\\cdot c}$$\n",
    "Where\n",
    "* $Q_{\\text{gain}}$ is the heat gain of the pixel of interest,\n",
    "* $\\rho$ is the density of the pixel of interest,\n",
    "* $V$ is the volume of pixel of interest, modelled here as $(\\Delta x)^3$ and\n",
    "* $c$ is the specific heat capacity of the pixel of interest\n",
    "\n",
    "Finally, the final temperature of the pixel of interest, $T_{\\text{final}}$ is\n",
    "$$T_{\\text{final}} = T_i + \\Delta T$$\n",
    "  \n",
    "We also define a function `step`, which applies `step_pixel` to all pixels in a steak.\n",
    "\n",
    "`step(steak, timestep)` -> None"
   ]
  },
  {
   "cell_type": "code",
   "execution_count": 6,
   "id": "5f027a0e-bed3-40c2-9a7a-ebe5bebe2f85",
   "metadata": {},
   "outputs": [],
   "source": [
    "def step_pixel(steak, i, j, t):\n",
    "\n",
    "    n_rows = np.shape(steak)[0]\n",
    "    n_cols = np.shape(steak)[1]\n",
    "\n",
    "    # ===========================================\n",
    "    # PART 1: GET THE SURROUNDING PIXEL DATA\n",
    "    # ===========================================\n",
    "    top = steak[i-1,j] if i > 0 else None\n",
    "    bottom = steak[i+1,j] if i < n_rows-1 else None\n",
    "    left = steak[i,j-1] if j > 0 else None\n",
    "    right = steak[i,j+1] if j < n_cols-1 else None\n",
    "\n",
    "    pixels_in_contact = np.array([x for x in [top,left,right,bottom] if x is not None])\n",
    "    pixel_of_interest = steak[i,j]\n",
    "\n",
    "    # ===========================================\n",
    "    # PART 2: CALCULATE HEAT GAIN\n",
    "    # ===========================================\n",
    "    temps = np.array(list(get_temp(pixel) for pixel in pixels_in_contact))\n",
    "    center = get_temp(pixel_of_interest)\n",
    "    ini_temp_diff = temps - center\n",
    "\n",
    "    avg_tc_arr = np.zeros(len(pixels_in_contact))\n",
    "    for idx, pxl in enumerate(pixels_in_contact):\n",
    "        if get_type(pxl) != pxl_type[\"source\"]:\n",
    "            avg_tc_arr[idx] = (get_tc(pxl) + get_tc(pixel_of_interest))/2\n",
    "        else:\n",
    "            avg_tc_arr[idx] = get_tc(pixel_of_interest)\n",
    "    \n",
    "    heat_gain = np.sum(t * avg_tc_arr * pixel_side_length * ini_temp_diff)\n",
    "\n",
    "    # if i == 0 or j == 0 or j == n_cols-1:\n",
    "    # if len(pixels_in_contact) != 4:\n",
    "    #     # accounting lost of heat to surroundings\n",
    "    #     heat_loss_surr = ((4 - len(pixels_in_contact)) * \n",
    "    #                       pixel_side_length * \n",
    "    #                       get_tc(pixel_of_interest) * \n",
    "    #                       (center - room_temperature) \n",
    "    #                       * t)\n",
    "    #     heat_gain -= heat_loss_surr\n",
    "    \n",
    "    # ===========================================\n",
    "    # PART 3: CALCULATE FINAL TEMPERATURE\n",
    "    # ===========================================\n",
    "    vol = pixel_side_length ** 3\n",
    "    rho = get_density(pixel_of_interest)\n",
    "    shc = get_shc(pixel_of_interest)\n",
    "    denom = vol * rho * shc\n",
    "    change_in_temp = heat_gain / denom\n",
    "\n",
    "    final_temp = get_temp(pixel_of_interest) + change_in_temp\n",
    "\n",
    "    return final_temp.item()\n",
    "\n",
    "\n",
    "def step(steak, timestep):\n",
    "    height = len(steak)\n",
    "    width = len(steak[0])\n",
    "\n",
    "    # create a copy so that the kernel refers to old temp values\n",
    "    steak_copy_np = np.array(copy.deepcopy(steak))\n",
    "\n",
    "    for i in range(height):\n",
    "        for j in range(width):\n",
    "            pxl = steak[i][j]\n",
    "            if get_type(pxl) != pxl_type[\"source\"]:\n",
    "                step_temperature = step_pixel(steak_copy_np, i, j, timestep)\n",
    "                change_temp(pxl, step_temperature)\n",
    "                if get_temp(pxl) >= burnt_temp:\n",
    "                    #set state to burnt\n",
    "                    change_pxl_type(pxl,\"burnt\")\n",
    "                if get_temp(pxl) >= maillard_temp and get_type(pxl) != pxl_type[\"burnt\"]:\n",
    "                    #set state to maillard\n",
    "                    change_pxl_type(pxl,\"maillard\")"
   ]
  },
  {
   "cell_type": "markdown",
   "id": "8d6dca5c-90c6-40d2-9100-1e511bdff25e",
   "metadata": {
    "jp-MarkdownHeadingCollapsed": true
   },
   "source": [
    "# Cooking the Steak\n",
    "Here we define the function `flip` that flips the steak.\n",
    "\n",
    "`flip(steak)` -> None\n",
    "\n",
    "We also define a function `cook` that simulates the cooking of the steak.\n",
    "\n",
    "`cook(steak, timestep, interval, total_duration)` -> (array_of_steaks, internal_temperature, external_temperature) (list of lists)\n",
    "\n",
    "This function takes in the following arguments:\n",
    "* `steak` : 2-d array of pixel ADTs\n",
    "* `timestep` : Frequency of heating. For example, a timestep of 0.1 means that the steak will be heated 10 separate times in a second.\n",
    "* `interval` : Time interval between steaks saved in the returned array_of_steaks.\n",
    "* `total_duration` : Total duration of cooking (in seconds).\n",
    "\n",
    "Lastly, we define a function `residual` that simulates the residual cooking of steak.\n",
    "\n",
    "`residual(steak, timestep, total_duration)` -> final_internal_temp (float)"
   ]
  },
  {
   "cell_type": "code",
   "execution_count": 88,
   "id": "84fd07bc-259a-440b-9e5e-616149785117",
   "metadata": {},
   "outputs": [],
   "source": [
    "def flip(steak):\n",
    "    heating = steak.pop(-1)\n",
    "    steak.reverse()\n",
    "    steak.append(heating)\n",
    "\n",
    "def cook(steak,timestep,interval,total_duration):\n",
    "    n_plots = total_duration // interval\n",
    "    i = 0\n",
    "    arr_of_steaks = []\n",
    "    internal_temperature = []\n",
    "    external_temperature = []\n",
    "    print(\"Processing ... \")\n",
    "    while i < n_plots:\n",
    "        j = 0\n",
    "        while j < (interval / timestep):\n",
    "            duration = round(timestep * j + i * interval,2)\n",
    "\n",
    "            # ===========================================\n",
    "            # Flip steak (every 30s)\n",
    "            # ===========================================\n",
    "            if duration % 15 == 0:\n",
    "                flip(steak)\n",
    "\n",
    "            # ===========================================\n",
    "            # Calculate central pixel temperature\n",
    "            # ===========================================\n",
    "            internal_temp = get_temp(steak[len(steak)//2][len(steak[0])//2])\n",
    "            internal_temperature.append(internal_temp)\n",
    "\n",
    "            # ===========================================\n",
    "            # Calculate average outer layer temperature\n",
    "            # ===========================================\n",
    "            upper_temp = list(map(lambda x : get_temp(x),steak[0]))\n",
    "            lower_temp = list(map(lambda x : get_temp(x),steak[-2]))\n",
    "            average_upper_temp = sum(upper_temp)/len(upper_temp)\n",
    "            average_lower_temp = sum(lower_temp)/len(lower_temp)\n",
    "            external_temp = (average_upper_temp + average_lower_temp)/2\n",
    "            external_temperature.append(external_temp)\n",
    "            \n",
    "            step(steak,timestep)            \n",
    "\n",
    "            j += 1\n",
    "\n",
    "        arr_of_steaks.append(copy.deepcopy(steak))\n",
    "        i += 1\n",
    "    print(\"Done\")\n",
    "    return (arr_of_steaks, internal_temperature, external_temperature)\n",
    "\n",
    "def residual(steak,timestep,total_duration):\n",
    "    heating = steak.pop(-1)\n",
    "    i = 0\n",
    "    print(\"Processing ... \")\n",
    "    while i < total_duration:\n",
    "        step(steak,timestep)            \n",
    "        i += timestep\n",
    "    internal_temp = get_temp(steak[len(steak)//2][len(steak[0])//2])\n",
    "    print(\"Done\")\n",
    "    return internal_temp"
   ]
  },
  {
   "cell_type": "markdown",
   "id": "582c24dd-c9ea-420e-9575-f365180e7ea9",
   "metadata": {},
   "source": [
    "# Visualising the Steak\n",
    "In this project, we will visualise the steak from two different aspects:\n",
    "1. Temperature\n",
    "2. Composition\n",
    "\n",
    "**Temperature**\n",
    "* `to_color(pxl, min_temp, max_temp)` -> rgb_color (1-d 3 element list)\n",
    "* `get_color_map(steak)` -> color_map (3-d list)\n",
    "\n",
    "**Composition**\n",
    "* `to_comp_color(pxl)` -> rgb_color (1-d 3 element list)\n",
    "* `get_comp_color_map(steak)` -> color_map (3-d list)"
   ]
  },
  {
   "cell_type": "code",
   "execution_count": 8,
   "id": "b6995783-f1db-49af-8414-12cbb538d2e0",
   "metadata": {},
   "outputs": [],
   "source": [
    "def to_color(pxl,min_temp = room_temperature, max_temp = max_temperature):\n",
    "\n",
    "    temp = get_temp(pxl)\n",
    "\n",
    "    temp = min_temp if temp < min_temp else max_temp if temp > max_temp else temp\n",
    "\n",
    "    heat_index = (temp - min_temp)/(max_temp - min_temp)\n",
    "\n",
    "    if get_type(pxl) == pxl_type[\"source\"]:\n",
    "        color = colors_dict[\"RED\"]\n",
    "    elif get_type(pxl) == pxl_type[\"burnt\"]:\n",
    "        color = colors_dict[\"BLACK\"]\n",
    "    else:\n",
    "        if get_outer(pxl):\n",
    "            raw_color = colors_dict[\"RAW_COLOR\"]\n",
    "            cooked_color = colors_dict[\"OUTER_COOKED_COLOR\"]\n",
    "        else:\n",
    "            raw_color = colors_dict[\"RAW_COLOR\"]\n",
    "            cooked_color = colors_dict[\"INNER_COOKED_COLOR\"]\n",
    "        color = list(map(lambda x : (((cooked_color[x] - raw_color[x]) * heat_index) + raw_color[x]),range(3)))\n",
    "    return color\n",
    "\n",
    "def get_color_map(steak):\n",
    "    # steak = list(list(get_temp(pixel) for pixel in row) for row in steak)\n",
    "    res = []\n",
    "    for i in range(len(steak)):\n",
    "        tmp = []\n",
    "        for j in range(len(steak[0])):\n",
    "            tmp.append(to_color(steak[i][j]))\n",
    "        res.append(tmp)\n",
    "    return res"
   ]
  },
  {
   "cell_type": "code",
   "execution_count": 85,
   "id": "c2c7a249-fbf1-4c0e-bbdc-3e977b04f569",
   "metadata": {},
   "outputs": [],
   "source": [
    "def to_comp_color(pxl):\n",
    "\n",
    "    if get_type(pxl) == pxl_type[\"source\"]:\n",
    "        color = colors_dict[\"RED\"]\n",
    "    elif get_type(pxl) == pxl_type[\"fat\"]:\n",
    "        color = colors_dict[\"FAT\"]\n",
    "    elif get_type(pxl) == pxl_type[\"water\"]:\n",
    "        color = colors_dict[\"WATER\"]\n",
    "    elif get_type(pxl) == pxl_type[\"protein\"]:\n",
    "        color = colors_dict[\"PROTEIN\"]\n",
    "    return color\n",
    "\n",
    "def get_comp_color_map(steak):\n",
    "    res = []\n",
    "    for i in range(len(steak)):\n",
    "        tmp = []\n",
    "        for j in range(len(steak[0])):\n",
    "            tmp.append(to_comp_color(steak[i][j]))\n",
    "        res.append(tmp)\n",
    "    return res"
   ]
  },
  {
   "cell_type": "markdown",
   "id": "015f99ec-05e5-45c0-9076-d58bacc857cc",
   "metadata": {},
   "source": [
    "# Analysing Data"
   ]
  },
  {
   "cell_type": "code",
   "execution_count": 10,
   "id": "dde32244-b723-4b2b-9255-e35b21e3e6f8",
   "metadata": {},
   "outputs": [
    {
     "name": "stdout",
     "output_type": "stream",
     "text": [
      "Processing ... \n",
      "Done\n"
     ]
    }
   ],
   "source": [
    "steak_one = create_steak(16,30)\n",
    "arr, internal_temp, external_temp = cook(steak_one,0.1,0.1,1000)"
   ]
  },
  {
   "cell_type": "markdown",
   "id": "e54a365e-4f63-4d43-a56b-9e5c9505fc6a",
   "metadata": {},
   "source": [
    "## Plotting Temperature - Timestep Graph"
   ]
  },
  {
   "cell_type": "code",
   "execution_count": 11,
   "id": "a6db672a-c59c-4fcf-ba5b-33b5468fe0c3",
   "metadata": {},
   "outputs": [
    {
     "data": {
      "image/png": "[encoded data removed]",
      "text/plain": [
       "<Figure size 640x480 with 1 Axes>"
      ]
     },
     "metadata": {},
     "output_type": "display_data"
    }
   ],
   "source": [
    "plt.plot(internal_temp)\n",
    "plt.plot(external_temp)\n",
    "plt.axhline(55,color=\"blue\")\n",
    "plt.axhline(57,color=\"blue\")\n",
    "plt.axhline(130,color=\"orange\")\n",
    "plt.axhline(175,color=\"orange\")\n",
    "x_1_external = external_temp.index(min(external_temp, key=lambda x:abs(x-130)))\n",
    "x_2_external = external_temp.index(min(external_temp, key=lambda x:abs(x-165)))\n",
    "plt.axvline(x_1_external,color=\"orange\")\n",
    "plt.axvline(x_2_external,color=\"orange\")\n",
    "x_1_internal = internal_temp.index(min(internal_temp, key=lambda x:abs(x-52)))\n",
    "x_2_internal = internal_temp.index(min(internal_temp, key=lambda x:abs(x-54)))\n",
    "plt.axvline(x_1_internal)\n",
    "plt.axvline(x_2_internal)\n",
    "plt.fill_between(range(x_1_external,x_2_external),min(external_temp),max(external_temp),color=\"orange\",alpha=.5)\n",
    "plt.fill_between(range(x_1_internal,x_2_internal),min(external_temp),max(external_temp),color=\"blue\",alpha=.2)\n",
    "plt.show()"
   ]
  },
  {
   "cell_type": "code",
   "execution_count": 32,
   "id": "1930affa-49e2-4649-a26f-afc2ab5dba2c",
   "metadata": {},
   "outputs": [],
   "source": [
    "arr_copy = copy.deepcopy(arr)"
   ]
  },
  {
   "cell_type": "markdown",
   "id": "f72715a7-c394-4b5c-8f5c-2db2fa770ae5",
   "metadata": {},
   "source": [
    "## Considering Residual Heat"
   ]
  },
  {
   "cell_type": "code",
   "execution_count": 33,
   "id": "14466732-0605-4c66-8f8a-fbfa65b41614",
   "metadata": {},
   "outputs": [
    {
     "name": "stdout",
     "output_type": "stream",
     "text": [
      "\n",
      "Size of list : 3616\n",
      "Number of indices : 3616\n",
      "First and last index : 1810 and 5425\n",
      "x_1_external : 1810\n",
      "x_2_external : 5425\n",
      "\n"
     ]
    }
   ],
   "source": [
    "arr_in_range = arr_copy[x_1_external:x_2_external+1]\n",
    "indices = list(range(x_1_external,x_2_external+1))\n",
    "print(f\"\"\"\n",
    "Size of list : {len(arr_in_range)}\n",
    "Number of indices : {len(indices)}\n",
    "First and last index : {indices[0]} and {indices[-1]}\n",
    "x_1_external : {x_1_external}\n",
    "x_2_external : {x_2_external}\n",
    "\"\"\")"
   ]
  },
  {
   "cell_type": "code",
   "execution_count": 34,
   "id": "d0838b74-69b6-4ab1-8cf8-6d1e6e93156e",
   "metadata": {},
   "outputs": [
    {
     "name": "stdout",
     "output_type": "stream",
     "text": [
      "\n",
      "Size of list : 362\n",
      "Number of indices : 362\n",
      "First and last index : 1810 and 5420\n",
      "\n"
     ]
    }
   ],
   "source": [
    "arr_in_range_diluted = arr_in_range[0:len(arr_in_range):10]\n",
    "indices_diluted = indices[0:len(indices):10]\n",
    "print(f\"\"\"\n",
    "Size of list : {len(arr_in_range_diluted)}\n",
    "Number of indices : {len(indices_diluted)}\n",
    "First and last index : {indices_diluted[0]} and {indices_diluted[-1]}\n",
    "\"\"\")"
   ]
  },
  {
   "cell_type": "code",
   "execution_count": null,
   "id": "69ecc1f2-eaa8-4b70-b43d-1a14a4fd1174",
   "metadata": {},
   "outputs": [],
   "source": [
    "res_temp = []\n",
    "for steak_snapshot in arr_in_range_diluted:\n",
    "    res_temp.append(residual(steak_snapshot,1,300))"
   ]
  },
  {
   "cell_type": "code",
   "execution_count": 81,
   "id": "adfa6619-5195-4c80-956f-c6f6ed8b820d",
   "metadata": {},
   "outputs": [
    {
     "data": {
      "image/png": "[encoded data removed]",
      "text/plain": [
       "<Figure size 640x480 with 1 Axes>"
      ]
     },
     "metadata": {},
     "output_type": "display_data"
    }
   ],
   "source": [
    "plt.plot(internal_temp)\n",
    "plt.plot(external_temp)\n",
    "plt.plot(indices_diluted, res_temp, color=\"red\")\n",
    "plt.axhline(52,color=\"red\")\n",
    "plt.axhline(54,color=\"red\")\n",
    "plt.axhline(130,color=\"orange\")\n",
    "plt.axhline(175,color=\"orange\")\n",
    "x_1_external = external_temp.index(min(external_temp, key=lambda x:abs(x-130)))\n",
    "x_2_external = external_temp.index(min(external_temp, key=lambda x:abs(x-165)))\n",
    "plt.axvline(x_1_external,color=\"orange\")\n",
    "plt.axvline(x_2_external,color=\"orange\")\n",
    "x_1_residual = indices_diluted[res_temp.index(min(res_temp, key=lambda x:abs(x-52)))]\n",
    "x_2_residual = indices_diluted[res_temp.index(min(res_temp, key=lambda x:abs(x-54)))]\n",
    "plt.axvline(x_1_residual,color=\"red\")\n",
    "plt.axvline(x_2_residual,color=\"red\")\n",
    "plt.fill_between(range(x_1_external,x_2_external),min(external_temp),max(external_temp),color=\"orange\",alpha=.5)\n",
    "plt.fill_between(range(x_1_residual,x_2_residual),min(external_temp),max(external_temp),color=\"red\",alpha=.2)\n",
    "plt.show()"
   ]
  },
  {
   "cell_type": "markdown",
   "id": "1b258fbb-fe9a-4465-843c-44f21a3e48fc",
   "metadata": {},
   "source": [
    "## Creating Animation of Heating"
   ]
  },
  {
   "cell_type": "code",
   "execution_count": 54,
   "id": "9d3f64ae-36f3-4623-8131-a0ce832bed02",
   "metadata": {},
   "outputs": [],
   "source": [
    "arr_copy_two = copy.deepcopy(arr)\n",
    "arr_copy_two = arr_copy_two[::20]"
   ]
  },
  {
   "cell_type": "code",
   "execution_count": 76,
   "id": "feabed5a-51a0-492f-9916-25682fe5518a",
   "metadata": {},
   "outputs": [
    {
     "data": {
      "image/png": "[encoded data removed]",
      "text/plain": [
       "<Figure size 640x480 with 2 Axes>"
      ]
     },
     "metadata": {},
     "output_type": "display_data"
    }
   ],
   "source": [
    "import matplotlib.pyplot as plt\n",
    "import matplotlib.animation as animation\n",
    "import matplotlib.colors as mcolors\n",
    "\n",
    "cmap = mcolors.LinearSegmentedColormap.from_list(\n",
    "    'temp_map',\n",
    "    [(0, colors_dict['RAW_COLOR']), (1, colors_dict['INNER_COOKED_COLOR'])]\n",
    ")\n",
    "\n",
    "norm = mcolors.Normalize(vmin=room_temperature, vmax=max_temperature)\n",
    "\n",
    "fig, ax = plt.subplots()\n",
    "\n",
    "image = ax.imshow(get_color_map(arr_copy_two[0]), animated=True)\n",
    "ax.axis('off')\n",
    "\n",
    "sm = plt.cm.ScalarMappable(cmap=cmap, norm=norm)\n",
    "sm.set_array([])\n",
    "cbar = fig.colorbar(sm, ax=ax, fraction=0.046, pad=0.04)\n",
    "cbar.set_label('Temperature (°C)')\n",
    "\n",
    "title = ax.set_title(\"t = 0.0 s\")\n",
    "\n",
    "def update(frame_idx):\n",
    "    image.set_array(get_color_map(arr_copy_two[frame_idx]))\n",
    "    time = frame_idx * 2  # each frame = 2 s\n",
    "    title.set_text(f\"t = {time} s\")\n",
    "    return [image, title]\n",
    "\n",
    "ani = animation.FuncAnimation(\n",
    "    fig=fig,\n",
    "    func=update,\n",
    "    frames=len(arr_copy_two),\n",
    "    interval=10,         # 10 ms per frame\n",
    "    repeat_delay=1000,   # pause before looping\n",
    "    blit=True\n",
    ")\n",
    "\n",
    "ani.save(\"temperature_animation.gif\", writer=\"pillow\")\n",
    "plt.show()\n"
   ]
  },
  {
   "cell_type": "markdown",
   "id": "5dc011c8-b474-4a6f-ae25-5e0f9df98c81",
   "metadata": {},
   "source": [
    "## Composition Map"
   ]
  },
  {
   "cell_type": "code",
   "execution_count": 87,
   "id": "a827f49e-ba7f-4e80-b1fe-e883100cca22",
   "metadata": {},
   "outputs": [
    {
     "data": {
      "image/png": "[encoded data removed]",
      "text/plain": [
       "<Figure size 640x480 with 1 Axes>"
      ]
     },
     "metadata": {},
     "output_type": "display_data"
    }
   ],
   "source": [
    "plt.imshow(get_comp_color_map(arr[0]))\n",
    "plt.savefig(\"composition.png\")"
   ]
  }
 ],
 "metadata": {
  "kernelspec": {
   "display_name": "Python 3 (ipykernel)",
   "language": "python",
   "name": "python3"
  },
  "language_info": {
   "codemirror_mode": {
    "name": "ipython",
    "version": 3
   },
   "file_extension": ".py",
   "mimetype": "text/x-python",
   "name": "python",
   "nbconvert_exporter": "python",
   "pygments_lexer": "ipython3",
   "version": "3.13.2"
  }
 },
 "nbformat": 4,
 "nbformat_minor": 5
}
