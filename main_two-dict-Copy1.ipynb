{
 "cells": [
  {
   "cell_type": "code",
   "execution_count": 14,
   "id": "2465dadd-0bc1-499c-81d2-6a252382b932",
   "metadata": {},
   "outputs": [],
   "source": [
    "import copy\n",
    "import random\n",
    "import numpy as np\n",
    "import matplotlib.pyplot as plt\n",
    "import math\n",
    "\n",
    "# =================================\n",
    "# Defining constants\n",
    "# =================================\n",
    "\n",
    "# fat\n",
    "fat_shc = 1.9842e3 # J kg-1 K-1\n",
    "fat_tc = 1.8071e-1 # W m-1 K-1\n",
    "fat_density = 9.2559e2 # kg m-3\n",
    "\n",
    "# protein\n",
    "protein_shc = 2.0082e3 # J kg-1 K-1\n",
    "protein_tc = 1.7881e-1 # W m-1 K-1\n",
    "protein_density = 1.3299e3 # kg m-3\n",
    "\n",
    "# water\n",
    "water_shc = 4.184e3 # J kg-1 K-1\n",
    "water_tc = 6e-1 # W m-1 K-1\n",
    "water_density = 9.97e2 # kg m-3\n",
    "\n",
    "# pixel\n",
    "pixel_side_length = 0.0025 # meter\n",
    "\n",
    "# temperatures\n",
    "max_temperature = 220\n",
    "room_temperature = 25 # celsius\n",
    "heating_temperature = 200 # celsius\n",
    "ideal_internal_temperature = 60 # celsius\n",
    "\n",
    "# temperature thresholds\n",
    "maillard_temp = 130 # celsius\n",
    "burnt_temp = 175 # celcius\n",
    "\n",
    "# composition\n",
    "fat_percentage = .09\n",
    "water_percentage = .69\n",
    "protein_percentage = 1 - fat_percentage - water_percentage\n",
    "\n",
    "pxl_type = {\n",
    "        0: \"source\",\n",
    "        1: \"fat\",\n",
    "        2: \"protein\",\n",
    "        3: \"water\",\n",
    "        4: \"maillard\",\n",
    "        5: \"burnt\"\n",
    "    }\n",
    "\n",
    "colors_dict = {\n",
    "        \"GOLD\" : [153/255,101/255,21/255],\n",
    "        \"BLACK\": [0,0,0],\n",
    "        \"RED\": [255/255,0,0],\n",
    "        \"RAW_COLOR\": [230/255,117/255,122/255], # light pink\n",
    "        \"INNER_COOKED_COLOR\": [158/255,155/255,147/255], # grey\n",
    "        \"OUTER_COOKED_COLOR\": [94/255,65/255,37/255],\n",
    "        \"FAT\": [255/255,255/255,255/255],\n",
    "        \"WATER\": [0,0,255/255]\n",
    "    }\n",
    "\n"
   ]
  },
  {
   "cell_type": "code",
   "execution_count": 2,
   "id": "90e863b9-d506-4936-822f-fa71f4dad2fd",
   "metadata": {},
   "outputs": [],
   "source": [
    "def create_pixel(temperature, thermal_conductivity, specific_heat_capacity, density, pxl_type_num,outer):\n",
    "    return {\n",
    "        \"temp\": temperature,\n",
    "        \"tc\" : thermal_conductivity,\n",
    "        \"shc\": specific_heat_capacity,\n",
    "        \"density\": density,\n",
    "        \"type\": pxl_type[pxl_type_num],\n",
    "        \"outer\": outer\n",
    "    }\n",
    "\n",
    "def get_temp(pixel):\n",
    "    return pixel[\"temp\"]\n",
    "\n",
    "def get_tc(pixel):\n",
    "    return pixel[\"tc\"]\n",
    "\n",
    "def get_shc(pixel):\n",
    "    return pixel[\"shc\"]\n",
    "\n",
    "def get_density(pixel):\n",
    "    return pixel[\"density\"]\n",
    "\n",
    "def get_type(pixel):\n",
    "    return pixel[\"type\"]\n",
    "\n",
    "def get_outer(pixel):\n",
    "    return pixel[\"outer\"]\n",
    "\n",
    "def change_temp(pxl, new_temp):\n",
    "    pxl[\"temp\"] = new_temp\n",
    "\n",
    "def set_pxl_type(pxl,pxl_type_num):\n",
    "    pxl[\"type\"] = pxl_type[pxl_type_num]"
   ]
  },
  {
   "cell_type": "code",
   "execution_count": 3,
   "id": "c6dfabe9-6334-4cc5-a0dd-41069e1295ce",
   "metadata": {},
   "outputs": [],
   "source": [
    "def create_steak(height, width):\n",
    "    res = []\n",
    "    for i in range(height + 1):\n",
    "        # we define the outer threshold as the 1/8 outer layers of the steak\n",
    "        outer = True if i < height * 1/8 or i > height * (1 - 1/8) - 1 else False\n",
    "        tmp = []\n",
    "        for j in range(width):\n",
    "            if i < height:\n",
    "                random_float = random.random()\n",
    "                if random_float < fat_percentage:\n",
    "                    tmp.append(create_pixel(room_temperature,fat_tc,fat_shc, fat_density, 1, outer))\n",
    "                elif fat_percentage <= random_float < fat_percentage + water_percentage:\n",
    "                    tmp.append(create_pixel(room_temperature,water_tc,water_shc, water_density, 3, outer))\n",
    "                else:\n",
    "                    tmp.append(create_pixel(room_temperature,protein_tc,protein_shc, protein_density, 2, outer))\n",
    "            else:\n",
    "                tmp.append(create_pixel(heating_temperature,0,0,0,0,False))\n",
    "        res.append(tmp)\n",
    "    return res"
   ]
  },
  {
   "cell_type": "code",
   "execution_count": 4,
   "id": "e3f03e0f-590f-4ecf-be30-1a92d4e136f2",
   "metadata": {},
   "outputs": [],
   "source": [
    "def step_pixel(image, i=0, j=0, t=0.01):\n",
    "\n",
    "    # PART 1: GET THE TOP AND BOTTOM PIXEL DATA\n",
    "    n_rows = np.shape(image)[0]\n",
    "    n_cols = np.shape(image)[1]\n",
    "\n",
    "    top = image[i-1,j] if i > 0 else None\n",
    "    bottom = image[i+1,j] if i < n_rows-1 else None\n",
    "    left = image[i,j-1] if j > 0 else None\n",
    "    right = image[i,j+1] if j < n_cols-1 else None\n",
    "\n",
    "    pixels_in_contact = np.array([x for x in [top,left,right,bottom] if x is not None])\n",
    "    pixel_of_interest = image[i,j]\n",
    "\n",
    "    # PART 2: CALCULATE FINAL TEMP OF PIXEL I,J\n",
    "    temps = np.array(list(get_temp(pixel) for pixel in pixels_in_contact))\n",
    "    center = get_temp(pixel_of_interest)\n",
    "    ini_temp_diff = temps - center\n",
    "\n",
    "    avg_tc_arr = np.zeros(len(pixels_in_contact))\n",
    "    for idx, pxl in enumerate(pixels_in_contact):\n",
    "        if get_type(pxl) != \"source\":\n",
    "            avg_tc_arr[idx] = (get_tc(pxl) + get_tc(pixel_of_interest))/2\n",
    "        else:\n",
    "            avg_tc_arr[idx] = get_tc(pixel_of_interest)\n",
    "    \n",
    "    heat_gain = np.sum(t * avg_tc_arr * pixel_side_length * ini_temp_diff)\n",
    "\n",
    "    vol = pixel_side_length ** 3\n",
    "    rho = get_density(pixel_of_interest)\n",
    "    shc = get_shc(pixel_of_interest)\n",
    "    denom = vol * rho * shc\n",
    "    change_in_temp = heat_gain / denom\n",
    "    \n",
    "    if i == 0 or j == 0 or j == n_cols-1:\n",
    "        # accounting lost of heat to surroundings\n",
    "        # final_temp = get_temp(pixel_of_interest) + change_in_temp\n",
    "        final_temp = get_temp(pixel_of_interest) + change_in_temp - (\n",
    "                (4 - len(pixels_in_contact)) *\n",
    "                pixel_side_length *\n",
    "                get_tc(pixel_of_interest) * \n",
    "                (get_temp(pixel_of_interest) - room_temperature) * t\n",
    "        )\n",
    "    else:\n",
    "        final_temp = get_temp(pixel_of_interest) + change_in_temp\n",
    "\n",
    "    return final_temp.item()\n",
    "\n",
    "\n",
    "def step(image, timestep=0.01):\n",
    "    height = len(image)\n",
    "    width = len(image[0])\n",
    "\n",
    "    # create a copy so that the kernel refers to old temp values\n",
    "    image_copy_np = np.array(copy.deepcopy(image))\n",
    "\n",
    "    for i in range(height):\n",
    "        for j in range(width):\n",
    "            pxl = image[i][j]\n",
    "            if get_type(pxl) != \"source\":\n",
    "                step_temperature = step_pixel(image_copy_np, i, j, timestep)\n",
    "                change_temp(pxl, step_temperature)\n",
    "                if get_temp(pxl) >= burnt_temp:\n",
    "                    #set state to burnt\n",
    "                    set_pxl_type(pxl,5)\n",
    "                if get_temp(pxl) >= maillard_temp and get_type(pxl) != \"burnt\":\n",
    "                    #set state to maillard\n",
    "                    set_pxl_type(pxl,4)"
   ]
  },
  {
   "cell_type": "code",
   "execution_count": 15,
   "id": "46160ea8-55fe-4635-9c9d-64a7ee045b64",
   "metadata": {},
   "outputs": [],
   "source": [
    "def to_color(pxl,min_temp = room_temperature, max_temp = max_temperature):\n",
    "\n",
    "    temp = get_temp(pxl)\n",
    "\n",
    "    temp = min_temp if temp < min_temp else max_temp if temp > max_temp else temp\n",
    "    # if temp < min_temp or temp > max_temp:\n",
    "    #     print(f\"Please enter a temperature between {min_temp} and {max_temp}!\")\n",
    "    heat_index = (temp - min_temp)/(max_temp - min_temp)\n",
    "    # if get_type(pxl) == \"maillard\":\n",
    "    #     color = colors_dict[\"GOLD\"]\n",
    "    # elif get_type(pxl) == \"burnt\":\n",
    "    #     color = colors_dict[\"BLACK\"]\n",
    "    if get_type(pxl) == \"source\":\n",
    "        color = colors_dict[\"RED\"]\n",
    "    else:\n",
    "        if get_outer(pxl):\n",
    "            raw_color = colors_dict[\"RAW_COLOR\"]\n",
    "            cooked_color = colors_dict[\"OUTER_COOKED_COLOR\"]\n",
    "        else:\n",
    "            raw_color = colors_dict[\"RAW_COLOR\"]\n",
    "            cooked_color = colors_dict[\"INNER_COOKED_COLOR\"]\n",
    "        color = list(map(lambda x : (((cooked_color[x] - raw_color[x]) * heat_index) + raw_color[x]),range(3)))\n",
    "    return color\n",
    "\n",
    "def get_color_map(image):\n",
    "    # image = list(list(get_temp(pixel) for pixel in row) for row in image)\n",
    "    res = []\n",
    "    for i in range(len(image)):\n",
    "        tmp = []\n",
    "        for j in range(len(image[0])):\n",
    "            tmp.append(to_color(image[i][j]))\n",
    "        res.append(tmp)\n",
    "    return res"
   ]
  },
  {
   "cell_type": "code",
   "execution_count": 6,
   "id": "424c41b8-a40e-4455-b464-e9d851959e50",
   "metadata": {},
   "outputs": [],
   "source": [
    "def flip(steak):\n",
    "    heating = steak.pop(-1)\n",
    "    steak.reverse()\n",
    "    steak.append(heating)\n",
    "\n",
    "def plot_heatmaps(image,timestep,interval,total_duration):\n",
    "    n_plots = total_duration // interval\n",
    "    i = 0\n",
    "    arr_of_images = []\n",
    "    internal_temperature = []\n",
    "    external_temperature = []\n",
    "    print(\"Processing ... \")\n",
    "    while i < n_plots:\n",
    "        # print(f\"Creating plot no. {i+1} ...\")\n",
    "        j = 0\n",
    "        while j < (interval / timestep):\n",
    "            duration = round(timestep * j + i * interval,2)\n",
    "            # print(f\"t = {duration} seconds\")\n",
    "            #flip steak every 30 seconds\n",
    "            if duration % 30 == 0:\n",
    "                # print(f\"I printed the steak at {timestep * j + i * interval} seconds\")\n",
    "                flip(image)\n",
    "\n",
    "            internal_temp = get_temp(image[len(image)//2][len(image[0])//2])\n",
    "            internal_temperature.append(internal_temp)\n",
    "\n",
    "\n",
    "            upper_temp = list(map(lambda x : get_temp(x),image[0]))\n",
    "            lower_temp = list(map(lambda x : get_temp(x),image[-2]))\n",
    "            average_upper_temp = sum(upper_temp)/len(upper_temp)\n",
    "            average_lower_temp = sum(lower_temp)/len(lower_temp)\n",
    "            external_temp = (average_upper_temp + average_lower_temp)/2\n",
    "            \n",
    "\n",
    "            external_temperature.append(external_temp)\n",
    "            \n",
    "            step(image,timestep)            \n",
    "\n",
    "            # plt.imshow(get_color_map(image))\n",
    "            # plt.axis('off')\n",
    "            # plt.savefig(f'./images/image_t_{duration}.jpg',dpi=300, bbox_inches='tight', pad_inches=0.5)\n",
    "            # plt.close()\n",
    "            \n",
    "            j += 1\n",
    "        # print(f\"Plot no. {i+1} created\")\n",
    "        arr_of_images.append(copy.deepcopy(image))\n",
    "        i += 1\n",
    "    print(\"Done\")\n",
    "    return (arr_of_images, internal_temperature, external_temperature)"
   ]
  },
  {
   "cell_type": "code",
   "execution_count": 9,
   "id": "49843903-7bc9-41eb-90bf-f8610d7ff167",
   "metadata": {},
   "outputs": [
    {
     "name": "stdout",
     "output_type": "stream",
     "text": [
      "Processing ... \n",
      "Done\n"
     ]
    }
   ],
   "source": [
    "image = create_steak(16,30)\n",
    "arr, internal_temp, external_temp = plot_heatmaps(image,0.1,2.5,1000)\n",
    "# plt.imshow(get_color_map(image))"
   ]
  },
  {
   "cell_type": "code",
   "execution_count": 17,
   "id": "bb52e3be-a1ba-44ab-89aa-e9de9d24c087",
   "metadata": {},
   "outputs": [
    {
     "data": {
      "text/plain": [
       "400"
      ]
     },
     "execution_count": 17,
     "metadata": {},
     "output_type": "execute_result"
    }
   ],
   "source": [
    "len(arr)"
   ]
  },
  {
   "cell_type": "code",
   "execution_count": 19,
   "id": "4d5d6b5a-f5b3-4add-b016-6762ca5bde0b",
   "metadata": {},
   "outputs": [
    {
     "data": {
      "text/plain": [
       "4"
      ]
     },
     "execution_count": 19,
     "metadata": {},
     "output_type": "execute_result"
    }
   ],
   "source": [
    "filtered_arr = list(map(lambda x : arr[x],list(filter(lambda x : x%100 == 0,range(len(arr))))))\n",
    "len(filtered_arr)"
   ]
  },
  {
   "cell_type": "code",
   "execution_count": 23,
   "id": "4d404f85-0f86-4827-8e61-a8529717090b",
   "metadata": {},
   "outputs": [
    {
     "data": {
      "text/plain": [
       "[0, 100, 200, 300]"
      ]
     },
     "execution_count": 23,
     "metadata": {},
     "output_type": "execute_result"
    }
   ],
   "source": [
    "list(filter(lambda x : x%100 == 0,range(len(arr))))"
   ]
  },
  {
   "cell_type": "code",
   "execution_count": 21,
   "id": "41f264df-c889-4b38-95e8-d15997b92513",
   "metadata": {},
   "outputs": [
    {
     "data": {
      "image/png": "[encoded data removed]",
      "text/plain": [
       "<Figure size 640x480 with 4 Axes>"
      ]
     },
     "metadata": {},
     "output_type": "display_data"
    }
   ],
   "source": [
    "fig, ax = plt.subplots(2,2)\n",
    "for i in range(len(ax)):\n",
    "    for j in range(len(ax[0])):\n",
    "        ax[i,j].imshow(get_color_map(arr[i * 3 + j]))\n",
    "plt.show()"
   ]
  },
  {
   "cell_type": "code",
   "execution_count": 24,
   "id": "28fa104b-0ff1-43db-8b6c-4bc7af72ab0f",
   "metadata": {},
   "outputs": [
    {
     "data": {
      "text/plain": [
       "<matplotlib.image.AxesImage at 0x1c0b5e27110>"
      ]
     },
     "execution_count": 24,
     "metadata": {},
     "output_type": "execute_result"
    },
    {
     "data": {
      "image/png": "[encoded data removed]",
      "text/plain": [
       "<Figure size 640x480 with 1 Axes>"
      ]
     },
     "metadata": {},
     "output_type": "display_data"
    }
   ],
   "source": [
    "plt.imshow(get_color_map(arr[300]))"
   ]
  },
  {
   "cell_type": "code",
   "execution_count": 10,
   "id": "dae6e5a4-4c38-4c49-9e1c-7fec5ec637ad",
   "metadata": {},
   "outputs": [
    {
     "data": {
      "image/png": "[encoded data removed]",
      "text/plain": [
       "<Figure size 640x480 with 1 Axes>"
      ]
     },
     "metadata": {},
     "output_type": "display_data"
    }
   ],
   "source": [
    "plt.plot(internal_temp)\n",
    "plt.plot(external_temp)\n",
    "plt.show()"
   ]
  },
  {
   "cell_type": "code",
   "execution_count": 11,
   "id": "b6b5af68-1bea-4704-8fbf-96659861eb52",
   "metadata": {},
   "outputs": [
    {
     "data": {
      "image/png": "[encoded data removed]",
      "text/plain": [
       "<Figure size 640x480 with 1 Axes>"
      ]
     },
     "metadata": {},
     "output_type": "display_data"
    }
   ],
   "source": [
    "plt.plot(internal_temp)\n",
    "plt.plot(external_temp)\n",
    "plt.axhline(55,color=\"blue\")\n",
    "plt.axhline(57,color=\"blue\")\n",
    "plt.axhline(130,color=\"orange\")\n",
    "plt.axhline(175,color=\"orange\")\n",
    "plt.show()"
   ]
  },
  {
   "cell_type": "code",
   "execution_count": 28,
   "id": "a6dc62cc-8733-425a-9980-37b15ac7937b",
   "metadata": {},
   "outputs": [
    {
     "data": {
      "image/png": "[encoded data removed]",
      "text/plain": [
       "<Figure size 640x480 with 1 Axes>"
      ]
     },
     "metadata": {},
     "output_type": "display_data"
    }
   ],
   "source": [
    "plt.plot(internal_temp)\n",
    "plt.plot(external_temp)\n",
    "plt.axhline(55,color=\"blue\")\n",
    "plt.axhline(57,color=\"blue\")\n",
    "plt.axhline(130,color=\"orange\")\n",
    "plt.axhline(175,color=\"orange\")\n",
    "plt.axvline(external_temp.index(min(external_temp, key=lambda x:abs(x-130))),color=\"orange\")\n",
    "plt.axvline(internal_temp.index(min(internal_temp, key=lambda x:abs(x-55))))\n",
    "plt.axvline(internal_temp.index(min(internal_temp, key=lambda x:abs(x-57))))\n",
    "plt.fill_between(range(external_temp.index(min(external_temp, key=lambda x:abs(x-130))),len(external_temp)+1),min(external_temp),max(external_temp),color=\"orange\",alpha=.5)\n",
    "plt.fill_between(range(internal_temp.index(min(internal_temp, key=lambda x:abs(x-55))),internal_temp.index(min(internal_temp, key=lambda x:abs(x-57)))),min(external_temp),max(external_temp),color=\"blue\",alpha=.2)\n",
    "\n",
    "plt.savefig('demo.png')\n",
    "plt.show()"
   ]
  },
  {
   "cell_type": "code",
   "execution_count": null,
   "id": "a4cba02b-8c46-4fb8-89f6-69c958598769",
   "metadata": {},
   "outputs": [],
   "source": [
    "def to_comp_color(pxl):\n",
    "\n",
    "    if get_type(pxl) == \"source\":\n",
    "        color = colors_dict[\"RED\"]\n",
    "    elif get_type(pxl) == \"fat\":\n",
    "        color = colors_dict[\"FAT\"]\n",
    "    elif get_type(pxl) == \"water\":\n",
    "        color = colors_dict[\"WATER\"]\n",
    "    elif get_type(pxl) == \"protein\":\n",
    "        color = colors_dict[\"RED\"]\n",
    "    return color\n",
    "\n",
    "def get_comp_color_map(image):\n",
    "    res = []\n",
    "    for i in range(len(image)):\n",
    "        tmp = []\n",
    "        for j in range(len(image[0])):\n",
    "            tmp.append(to_comp_color(image[i][j]))\n",
    "        res.append(tmp)\n",
    "    return res"
   ]
  },
  {
   "cell_type": "code",
   "execution_count": null,
   "id": "42a39357-ad3a-465f-b466-ad3b101ad82c",
   "metadata": {},
   "outputs": [],
   "source": [
    "plt.imshow(get_comp_color_map(arr[0]))"
   ]
  },
  {
   "cell_type": "code",
   "execution_count": null,
   "id": "1d7ae086-9fc9-401b-a54a-abbdbe5d6751",
   "metadata": {},
   "outputs": [],
   "source": []
  }
 ],
 "metadata": {
  "kernelspec": {
   "display_name": "Python 3 (ipykernel)",
   "language": "python",
   "name": "python3"
  },
  "language_info": {
   "codemirror_mode": {
    "name": "ipython",
    "version": 3
   },
   "file_extension": ".py",
   "mimetype": "text/x-python",
   "name": "python",
   "nbconvert_exporter": "python",
   "pygments_lexer": "ipython3",
   "version": "3.13.2"
  }
 },
 "nbformat": 4,
 "nbformat_minor": 5
}
