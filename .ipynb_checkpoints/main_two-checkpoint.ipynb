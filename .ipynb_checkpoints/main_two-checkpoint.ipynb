{
 "cells": [
  {
   "cell_type": "code",
   "execution_count": 1,
   "id": "2465dadd-0bc1-499c-81d2-6a252382b932",
   "metadata": {},
   "outputs": [],
   "source": [
    "import copy\n",
    "import random\n",
    "import numpy as np\n",
    "import matplotlib.pyplot as plt\n",
    "\n",
    "# =================================\n",
    "# Defining constants\n",
    "# =================================\n",
    "\n",
    "# fat\n",
    "fat_shc = 1.9842e3 # J kg-1 K-1\n",
    "fat_tc = 1.8071e-1 # W m-1 K-1\n",
    "fat_density = 9.2559e2 # kg m-3\n",
    "\n",
    "# protein\n",
    "protein_shc = 2.0082e3 # J kg-1 K-1\n",
    "protein_tc = 1.7881e-1 # W m-1 K-1\n",
    "protein_density = 1.3299e3 # kg m-3\n",
    "\n",
    "# water\n",
    "water_shc = 4.184\n",
    "water_tc = 6e-1\n",
    "water_density = 9.97e2\n",
    "\n",
    "# pixel\n",
    "pixel_side_length = 0.0025 # meter\n",
    "\n",
    "# temperatures\n",
    "max_temperature = 220\n",
    "room_temperature = 25 # celsius\n",
    "heating_temperature = 200 # celsius\n",
    "ideal_internal_temperature = 60 # celsius"
   ]
  },
  {
   "cell_type": "code",
   "execution_count": 2,
   "id": "90e863b9-d506-4936-822f-fa71f4dad2fd",
   "metadata": {},
   "outputs": [],
   "source": [
    "def create_pixel(temperature, thermal_conductivity, specific_heat_capacity, density, heat_source):\n",
    "    return [temperature, thermal_conductivity, specific_heat_capacity, density, heat_source]\n",
    "\n",
    "def get_temp(pixel):\n",
    "    return pixel[0]\n",
    "\n",
    "def get_tc(pixel):\n",
    "    return pixel[1]\n",
    "\n",
    "def get_shc(pixel):\n",
    "    return pixel[2]\n",
    "\n",
    "def get_density(pixel):\n",
    "    return pixel[3]\n",
    "\n",
    "def get_src(pixel):\n",
    "    return pixel[4]\n",
    "\n",
    "def change_temp(pixel, new_temp):\n",
    "    pixel[0] = new_temp"
   ]
  },
  {
   "cell_type": "code",
   "execution_count": 3,
   "id": "c6dfabe9-6334-4cc5-a0dd-41069e1295ce",
   "metadata": {},
   "outputs": [],
   "source": [
    "def create_steak(height, width, fat_percentage):\n",
    "    res = []\n",
    "    for i in range(height):\n",
    "        tmp = []\n",
    "        for j in range(width):\n",
    "            if i < height - 1:\n",
    "                random_float = random.random()\n",
    "                if random_float < fat_percentage:\n",
    "                    tmp.append(create_pixel(room_temperature,fat_tc,fat_shc, fat_density, False))\n",
    "                elif fat_percentage <= random_float < 0.75:\n",
    "                    tmp.append(create_pixel(room_temperature,water_tc,water_shc, water_density, False))\n",
    "                else:\n",
    "                    tmp.append(create_pixel(room_temperature,protein_tc,protein_shc, protein_density, False))\n",
    "            else:\n",
    "                tmp.append(create_pixel(heating_temperature,0,0,0,True))\n",
    "        res.append(tmp)\n",
    "    return res"
   ]
  },
  {
   "cell_type": "code",
   "execution_count": 4,
   "id": "46160ea8-55fe-4635-9c9d-64a7ee045b64",
   "metadata": {},
   "outputs": [],
   "source": [
    "def to_color(temp,min_temp = room_temperature, max_temp = max_temperature):\n",
    "    temp = min_temp if temp < min_temp else max_temp if temp > max_temp else temp\n",
    "    # if temp < min_temp or temp > max_temp:\n",
    "    #     print(f\"Please enter a temperature between {min_temp} and {max_temp}!\")\n",
    "    heat_index = (temp - min_temp)/(max_temp - min_temp)\n",
    "    color = [heat_index,0.0,1-heat_index]\n",
    "    return color\n",
    "\n",
    "def get_color_map(image):\n",
    "    image = list(list(get_temp(pixel) for pixel in row) for row in image)\n",
    "    res = []\n",
    "    for i in range(len(image)):\n",
    "        tmp = []\n",
    "        for j in range(len(image[0])):\n",
    "            tmp.append(to_color(image[i][j]))\n",
    "        res.append(tmp)\n",
    "    return res"
   ]
  },
  {
   "cell_type": "code",
   "execution_count": 5,
   "id": "e3f03e0f-590f-4ecf-be30-1a92d4e136f2",
   "metadata": {},
   "outputs": [],
   "source": [
    "def step_pixel(image, i=0, j=0, t=0.01):\n",
    "\n",
    "    # PART 1: GET THE TOP AND BOTTOM PIXEL DATA\n",
    "    n_rows = np.shape(image)[0]\n",
    "    n_cols = np.shape(image)[1]\n",
    "\n",
    "    top = image[i-1,j] if i > 0 else None\n",
    "    bottom = image[i+1,j] if i < n_rows-1 else None\n",
    "    left = image[i,j-1] if j > 0 else None\n",
    "    right = image[i,j+1] if j < n_cols-1 else None\n",
    "\n",
    "    pixels_in_contact = np.array([x for x in [top,left,right,bottom] if x is not None])\n",
    "    pixel_of_interest = image[i,j]\n",
    "\n",
    "    # print(pixel_of_interest)\n",
    "    # print(pixels_in_contact)\n",
    "\n",
    "    # PART 2: CALCULATE FINAL TEMP OF PIXEL I,J\n",
    "    ini_temp_diff = np.array(list(get_temp(pixel) for pixel in pixels_in_contact)) - get_temp(pixel_of_interest)\n",
    "    # print(ini_temp_diff)\n",
    "    heat_gain = np.sum(t * get_tc(pixel_of_interest) * pixel_side_length * ini_temp_diff)\n",
    "    # print(heat_gain)\n",
    "    change_in_temp = heat_gain / (pixel_side_length ** 3 * get_density(pixel_of_interest) * get_shc(pixel_of_interest))\n",
    "\n",
    "    if i == 0 or j == 0 or j == n_cols-1:\n",
    "        # accounting lost of heat to surroundings\n",
    "        # final_temp = get_temp(pixel_of_interest) + change_in_temp\n",
    "        final_temp = get_temp(pixel_of_interest) + change_in_temp - (\n",
    "                (4 - len(pixels_in_contact)) *\n",
    "                pixel_side_length *\n",
    "                get_tc(pixel_of_interest) * \n",
    "                (get_temp(pixel_of_interest) - room_temperature) * t\n",
    "        )\n",
    "    else:\n",
    "        final_temp = get_temp(pixel_of_interest) + change_in_temp\n",
    "\n",
    "    return final_temp\n",
    "\n",
    "\n",
    "def step(image, timestep=0.01):\n",
    "    height = len(image)\n",
    "    width = len(image[0])\n",
    "\n",
    "    # create a copy so that the kernel refers to old temp values\n",
    "    image_copy_np = np.array(copy.deepcopy(image))\n",
    "\n",
    "    for i in range(height):\n",
    "        for j in range(width):\n",
    "            if get_src(image[i][j]) == False:\n",
    "                step_temperature = step_pixel(image_copy_np, i, j, timestep)\n",
    "                change_temp(image[i][j], step_temperature)"
   ]
  },
  {
   "cell_type": "code",
   "execution_count": 6,
   "id": "57c65c2f-4bde-4536-a0b6-aec46594613b",
   "metadata": {},
   "outputs": [
    {
     "data": {
      "text/plain": [
       "<matplotlib.image.AxesImage at 0x17fe6049a90>"
      ]
     },
     "execution_count": 6,
     "metadata": {},
     "output_type": "execute_result"
    },
    {
     "data": {
      "image/png": "[encoded data removed]",
      "text/plain": [
       "<Figure size 640x480 with 1 Axes>"
      ]
     },
     "metadata": {},
     "output_type": "display_data"
    }
   ],
   "source": [
    "image = create_steak(5,8,.08)\n",
    "plt.imshow(get_color_map(image))"
   ]
  },
  {
   "cell_type": "code",
   "execution_count": 7,
   "id": "2836060c-45a6-4064-97c3-78d6d649872c",
   "metadata": {},
   "outputs": [],
   "source": [
    "np_image = np.array(image)"
   ]
  },
  {
   "cell_type": "code",
   "execution_count": 8,
   "id": "a58a6d38-2291-4976-bb81-7d6c60921cac",
   "metadata": {},
   "outputs": [
    {
     "name": "stdout",
     "output_type": "stream",
     "text": [
      "[[[2.5000e+01 1.7881e-01 2.0082e+03 1.3299e+03 0.0000e+00]\n",
      "  [2.5000e+01 6.0000e-01 4.1840e+00 9.9700e+02 0.0000e+00]\n",
      "  [2.5000e+01 6.0000e-01 4.1840e+00 9.9700e+02 0.0000e+00]\n",
      "  [2.5000e+01 6.0000e-01 4.1840e+00 9.9700e+02 0.0000e+00]\n",
      "  [2.5000e+01 6.0000e-01 4.1840e+00 9.9700e+02 0.0000e+00]\n",
      "  [2.5000e+01 6.0000e-01 4.1840e+00 9.9700e+02 0.0000e+00]\n",
      "  [2.5000e+01 1.7881e-01 2.0082e+03 1.3299e+03 0.0000e+00]\n",
      "  [2.5000e+01 6.0000e-01 4.1840e+00 9.9700e+02 0.0000e+00]]\n",
      "\n",
      " [[2.5000e+01 1.7881e-01 2.0082e+03 1.3299e+03 0.0000e+00]\n",
      "  [2.5000e+01 1.7881e-01 2.0082e+03 1.3299e+03 0.0000e+00]\n",
      "  [2.5000e+01 1.7881e-01 2.0082e+03 1.3299e+03 0.0000e+00]\n",
      "  [2.5000e+01 1.7881e-01 2.0082e+03 1.3299e+03 0.0000e+00]\n",
      "  [2.5000e+01 6.0000e-01 4.1840e+00 9.9700e+02 0.0000e+00]\n",
      "  [2.5000e+01 1.7881e-01 2.0082e+03 1.3299e+03 0.0000e+00]\n",
      "  [2.5000e+01 6.0000e-01 4.1840e+00 9.9700e+02 0.0000e+00]\n",
      "  [2.5000e+01 6.0000e-01 4.1840e+00 9.9700e+02 0.0000e+00]]\n",
      "\n",
      " [[2.5000e+01 1.8071e-01 1.9842e+03 9.2559e+02 0.0000e+00]\n",
      "  [2.5000e+01 6.0000e-01 4.1840e+00 9.9700e+02 0.0000e+00]\n",
      "  [2.5000e+01 6.0000e-01 4.1840e+00 9.9700e+02 0.0000e+00]\n",
      "  [2.5000e+01 6.0000e-01 4.1840e+00 9.9700e+02 0.0000e+00]\n",
      "  [2.5000e+01 6.0000e-01 4.1840e+00 9.9700e+02 0.0000e+00]\n",
      "  [2.5000e+01 6.0000e-01 4.1840e+00 9.9700e+02 0.0000e+00]\n",
      "  [2.5000e+01 6.0000e-01 4.1840e+00 9.9700e+02 0.0000e+00]\n",
      "  [2.5000e+01 6.0000e-01 4.1840e+00 9.9700e+02 0.0000e+00]]\n",
      "\n",
      " [[2.5000e+01 6.0000e-01 4.1840e+00 9.9700e+02 0.0000e+00]\n",
      "  [2.5000e+01 6.0000e-01 4.1840e+00 9.9700e+02 0.0000e+00]\n",
      "  [2.5000e+01 6.0000e-01 4.1840e+00 9.9700e+02 0.0000e+00]\n",
      "  [2.5000e+01 6.0000e-01 4.1840e+00 9.9700e+02 0.0000e+00]\n",
      "  [2.5000e+01 6.0000e-01 4.1840e+00 9.9700e+02 0.0000e+00]\n",
      "  [2.5000e+01 6.0000e-01 4.1840e+00 9.9700e+02 0.0000e+00]\n",
      "  [2.5000e+01 6.0000e-01 4.1840e+00 9.9700e+02 0.0000e+00]\n",
      "  [2.5000e+01 6.0000e-01 4.1840e+00 9.9700e+02 0.0000e+00]]\n",
      "\n",
      " [[2.0000e+02 0.0000e+00 0.0000e+00 0.0000e+00 1.0000e+00]\n",
      "  [2.0000e+02 0.0000e+00 0.0000e+00 0.0000e+00 1.0000e+00]\n",
      "  [2.0000e+02 0.0000e+00 0.0000e+00 0.0000e+00 1.0000e+00]\n",
      "  [2.0000e+02 0.0000e+00 0.0000e+00 0.0000e+00 1.0000e+00]\n",
      "  [2.0000e+02 0.0000e+00 0.0000e+00 0.0000e+00 1.0000e+00]\n",
      "  [2.0000e+02 0.0000e+00 0.0000e+00 0.0000e+00 1.0000e+00]\n",
      "  [2.0000e+02 0.0000e+00 0.0000e+00 0.0000e+00 1.0000e+00]\n",
      "  [2.0000e+02 0.0000e+00 0.0000e+00 0.0000e+00 1.0000e+00]]]\n"
     ]
    }
   ],
   "source": [
    "print(np_image)"
   ]
  },
  {
   "cell_type": "code",
   "execution_count": 9,
   "id": "e53b99e0-42f7-416c-bea1-87b98e8861e2",
   "metadata": {},
   "outputs": [
    {
     "data": {
      "text/plain": [
       "np.float64(65.27378502620672)"
      ]
     },
     "execution_count": 9,
     "metadata": {},
     "output_type": "execute_result"
    }
   ],
   "source": [
    "step_pixel(np_image,3,1)"
   ]
  },
  {
   "cell_type": "code",
   "execution_count": 10,
   "id": "424c41b8-a40e-4455-b464-e9d851959e50",
   "metadata": {},
   "outputs": [],
   "source": [
    "def plot_heatmaps(image,timestep,interval,total_duration):\n",
    "    n_plots = total_duration / interval\n",
    "    i = 0\n",
    "    arr_of_images = []\n",
    "    while i < n_plots:\n",
    "        print(f\"Creating plot no. {i+1} ...\")\n",
    "        j = 0\n",
    "        while j < (interval / timestep):\n",
    "            step(image,timestep)\n",
    "            j += 1\n",
    "        print(f\"Plot no. {i+1} created\")\n",
    "        arr_of_images.append(copy.deepcopy(image))\n",
    "        i += 1\n",
    "    return arr_of_images"
   ]
  },
  {
   "cell_type": "code",
   "execution_count": 11,
   "id": "49843903-7bc9-41eb-90bf-f8610d7ff167",
   "metadata": {},
   "outputs": [
    {
     "data": {
      "text/plain": [
       "<matplotlib.image.AxesImage at 0x17fe8272e90>"
      ]
     },
     "execution_count": 11,
     "metadata": {},
     "output_type": "execute_result"
    },
    {
     "data": {
      "image/png": "[encoded data removed]",
      "text/plain": [
       "<Figure size 640x480 with 1 Axes>"
      ]
     },
     "metadata": {},
     "output_type": "display_data"
    }
   ],
   "source": [
    "image = create_steak(16,30,.01)\n",
    "plt.imshow(get_color_map(image))"
   ]
  },
  {
   "cell_type": "code",
   "execution_count": 12,
   "id": "13cdfa64-794d-4009-9018-f2b250205cd0",
   "metadata": {},
   "outputs": [
    {
     "data": {
      "text/plain": [
       "<matplotlib.image.AxesImage at 0x17fe8302850>"
      ]
     },
     "execution_count": 12,
     "metadata": {},
     "output_type": "execute_result"
    },
    {
     "data": {
      "image/png": "[encoded data removed]",
      "text/plain": [
       "<Figure size 640x480 with 1 Axes>"
      ]
     },
     "metadata": {},
     "output_type": "display_data"
    }
   ],
   "source": [
    "step(image)\n",
    "plt.imshow(get_color_map(image))"
   ]
  },
  {
   "cell_type": "code",
   "execution_count": 13,
   "id": "7c77a49c-dde8-4c3f-bdea-d15d843dc780",
   "metadata": {},
   "outputs": [
    {
     "name": "stdout",
     "output_type": "stream",
     "text": [
      "Creating plot no. 1 ...\n",
      "Plot no. 1 created\n",
      "Creating plot no. 2 ...\n",
      "Plot no. 2 created\n",
      "Creating plot no. 3 ...\n",
      "Plot no. 3 created\n",
      "Creating plot no. 4 ...\n",
      "Plot no. 4 created\n",
      "Creating plot no. 5 ...\n",
      "Plot no. 5 created\n",
      "Creating plot no. 6 ...\n",
      "Plot no. 6 created\n"
     ]
    },
    {
     "data": {
      "image/png": "[encoded data removed]",
      "text/plain": [
       "<Figure size 640x480 with 6 Axes>"
      ]
     },
     "metadata": {},
     "output_type": "display_data"
    }
   ],
   "source": [
    "arr = plot_heatmaps(image,0.01,120,720)\n",
    "fig, ax = plt.subplots(nrows = 2, ncols = 3)\n",
    "\n",
    "for i in range(len(ax)):\n",
    "    for j in range(len(ax[0])):\n",
    "        ax[i][j].imshow(get_color_map(arr[i*3 + j]))\n",
    "\n",
    "fig.tight_layout()\n",
    "plt.show()"
   ]
  },
  {
   "cell_type": "code",
   "execution_count": 14,
   "id": "ff5abc94-5c34-4d54-8ca8-68c5fbbaf82e",
   "metadata": {},
   "outputs": [
    {
     "data": {
      "text/plain": [
       "[np.float64(33.420508753719616), 0.6, 4.184, 997.0, False]"
      ]
     },
     "execution_count": 14,
     "metadata": {},
     "output_type": "execute_result"
    }
   ],
   "source": [
    "arr[2][3][4]"
   ]
  },
  {
   "cell_type": "code",
   "execution_count": null,
   "id": "26e56722-15f7-43fb-a626-b23d48b33c37",
   "metadata": {},
   "outputs": [],
   "source": []
  }
 ],
 "metadata": {
  "kernelspec": {
   "display_name": "Python 3 (ipykernel)",
   "language": "python",
   "name": "python3"
  },
  "language_info": {
   "codemirror_mode": {
    "name": "ipython",
    "version": 3
   },
   "file_extension": ".py",
   "mimetype": "text/x-python",
   "name": "python",
   "nbconvert_exporter": "python",
   "pygments_lexer": "ipython3",
   "version": "3.13.2"
  }
 },
 "nbformat": 4,
 "nbformat_minor": 5
}
