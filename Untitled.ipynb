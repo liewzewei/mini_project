{
 "cells": [
  {
   "cell_type": "code",
   "execution_count": 3,
   "id": "03cb43f5-2f79-4fee-9bf3-a0c90ccee9d4",
   "metadata": {},
   "outputs": [],
   "source": [
    "import glob\n",
    "import imageio"
   ]
  },
  {
   "cell_type": "code",
   "execution_count": 6,
   "id": "30704235-6f00-4880-b699-f1db111170be",
   "metadata": {},
   "outputs": [],
   "source": [
    "images = glob.glob(\"./images/*.jpg\")"
   ]
  },
  {
   "cell_type": "code",
   "execution_count": 7,
   "id": "8040088b-0d9d-49cd-b1a1-99d2e8c5ee52",
   "metadata": {},
   "outputs": [
    {
     "data": {
      "text/plain": [
       "['./images\\\\image_t_0.0.jpg',\n",
       " './images\\\\image_t_0.1.jpg',\n",
       " './images\\\\image_t_0.2.jpg',\n",
       " './images\\\\image_t_0.3.jpg',\n",
       " './images\\\\image_t_0.4.jpg']"
      ]
     },
     "execution_count": 7,
     "metadata": {},
     "output_type": "execute_result"
    }
   ],
   "source": [
    "images[:5]"
   ]
  },
  {
   "cell_type": "code",
   "execution_count": null,
   "id": "6f42b24a-e7a2-4da6-9989-3f5b863c7e50",
   "metadata": {},
   "outputs": [],
   "source": []
  }
 ],
 "metadata": {
  "kernelspec": {
   "display_name": "Python 3 (ipykernel)",
   "language": "python",
   "name": "python3"
  },
  "language_info": {
   "codemirror_mode": {
    "name": "ipython",
    "version": 3
   },
   "file_extension": ".py",
   "mimetype": "text/x-python",
   "name": "python",
   "nbconvert_exporter": "python",
   "pygments_lexer": "ipython3",
   "version": "3.13.2"
  }
 },
 "nbformat": 4,
 "nbformat_minor": 5
}
