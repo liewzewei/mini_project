{
 "cells": [
  {
   "cell_type": "markdown",
   "id": "22ab2ba7-bc2c-4ac5-b851-0e522b857b39",
   "metadata": {},
   "source": [
    "# The idea\n",
    "The main idea of this project is to simulate the heating of steak in a grid."
   ]
  },
  {
   "cell_type": "markdown",
   "id": "a1776f1b-f933-4ed2-aa6e-035d8d96f24e",
   "metadata": {},
   "source": [
    "# Creating a pixel ADT\n",
    "Here we define the pixel ADT.\\\n",
    "**Constructor**\\\n",
    "`create_pixel(temperature, thermal_diffusivity_coefficient)` -> pixel\\\n",
    "**Accessors**\\\n",
    "`get_temp(pixel)` -> temperature\\\n",
    "`get_tdc(pixel)` -> thermal diffusivity coefficient"
   ]
  },
  {
   "cell_type": "code",
   "execution_count": 1,
   "id": "1d6ad835-52a9-4d74-8144-d93e85f86372",
   "metadata": {},
   "outputs": [],
   "source": [
    "def create_pixel(temperature, thermal_diffusivity_coefficient):\n",
    "    return (temperature, thermal_diffusivity_coefficient)\n",
    "\n",
    "def get_temp(pixel):\n",
    "    return pixel[0]\n",
    "\n",
    "def get_tdc(pixel):\n",
    "    return pixel[1]"
   ]
  },
  {
   "cell_type": "markdown",
   "id": "54c8face-a829-4b43-863e-2d7d0a0027a3",
   "metadata": {},
   "source": [
    "# Creating a list representing a $m \\times n$ (height x width) image\n",
    "Here we define 3 functions:\n",
    "1. `create_image` creates a 2-d image of pixel ADTs with `height` rows and `width` columns.\n",
    "2. `linearise` linearises a 2-d image into a 1-d list.\n",
    "3. `unlinearise` returns an 2-d image of height `height`.\n",
    "4. `get_temp_from_image` returns a heatmap of temperatures from a 2-d image of pixel ADTs"
   ]
  },
  {
   "cell_type": "code",
   "execution_count": 2,
   "id": "4f2ecf2c-ad3d-4285-82ab-e1b15b3479fb",
   "metadata": {},
   "outputs": [],
   "source": [
    "import numpy as np\n",
    "import random\n",
    "\n",
    "height = 15\n",
    "width = 20\n",
    "\n",
    "def create_image(height, width):\n",
    "    '''\n",
    "    This function creates a m x n 2-d list that represents\n",
    "    an image\n",
    "\n",
    "    args:\n",
    "    height (int): number of rows of list (which corresponds\n",
    "    to the height of the image)\n",
    "\n",
    "    width (int): number of elements in a row (which corresponds\n",
    "    to the width of the image)\n",
    "    '''\n",
    "    res = []\n",
    "    for i in range(height):\n",
    "        tmp = []\n",
    "        for j in range(width):\n",
    "            if i < 2 * height / 3:\n",
    "                tmp.append(create_pixel(random.randint(10,20),random.random()))\n",
    "            else:\n",
    "                tmp.append(create_pixel(random.randint(80,90),random.random()))\n",
    "            #let initial temperature be 2, k= 0.1\n",
    "            # tmp.append(create_pixel(20, 0.1))\n",
    "        res.append(tmp)\n",
    "    return res\n",
    "\n",
    "def linearise(image):\n",
    "    '''\n",
    "    This function takes in a m x n 2-d list and returns\n",
    "    a 1-d array of len m * n\n",
    "\n",
    "    args:\n",
    "    image (list): m x n 2-d list\n",
    "    '''\n",
    "    res = []\n",
    "    for i in range(len(image)):\n",
    "        for j in range(len(image[0])):\n",
    "            res.append(image[i][j])\n",
    "    return res\n",
    "\n",
    "def unlinearise(linearised_image, height):\n",
    "    '''\n",
    "    This function takes in a 1-d list of len height * n\n",
    "    and returns a height x n 2-d list reprenting the image.\n",
    "\n",
    "    args:\n",
    "    linearised_picture (list): 1-d list of linearised pixels\n",
    "    of image\n",
    "    height (int): number of rows of the image, which corresponds\n",
    "    to its height\n",
    "    '''\n",
    "    n_pixels = len(linearised_image)\n",
    "    width = n_pixels // height\n",
    "    if n_pixels % width != 0:\n",
    "        print(\"Please enter a valid width!\")\n",
    "        return None\n",
    "    res = []\n",
    "    for i in range(height):\n",
    "        tmp = []\n",
    "        for j in range(width):\n",
    "            tmp.append(linearised_image[i * width + j])\n",
    "        res.append(tmp)\n",
    "    return res"
   ]
  },
  {
   "cell_type": "code",
   "execution_count": 3,
   "id": "835857c7-d74e-49da-83c6-c2c44422c595",
   "metadata": {},
   "outputs": [],
   "source": [
    "image = create_image(height,width)\n",
    "image_lin = linearise(image)\n",
    "image_unlin = unlinearise(image_lin,len(image))"
   ]
  },
  {
   "cell_type": "code",
   "execution_count": 4,
   "id": "83fdc9be-4ab1-4362-95ae-bf6499203810",
   "metadata": {},
   "outputs": [
    {
     "data": {
      "text/plain": [
       "True"
      ]
     },
     "execution_count": 4,
     "metadata": {},
     "output_type": "execute_result"
    }
   ],
   "source": [
    "# Verifying functions\n",
    "image == image_unlin and len(image_lin) == len(image) * len(image[0])"
   ]
  },
  {
   "cell_type": "code",
   "execution_count": 5,
   "id": "e6068138-0225-425f-940d-3f9cd457ef97",
   "metadata": {},
   "outputs": [],
   "source": [
    "def get_temp_from_image(image):\n",
    "    '''\n",
    "    This function takes in an image and returns\n",
    "    its corresponding heatmap (an array of temperatures)\n",
    "\n",
    "    args:\n",
    "    image (list): m x n 2-d list\n",
    "    '''\n",
    "    res = []\n",
    "    for i in range(len(image)):\n",
    "        tmp = []\n",
    "        for j in range(len(image[0])):\n",
    "            tmp.append(get_temp(image[i][j]))\n",
    "        res.append(tmp)\n",
    "    return res\n",
    "\n",
    "def get_k_from_image(image):\n",
    "    '''\n",
    "    This function takes in an image and returns\n",
    "    its corresponding k-array\n",
    "\n",
    "    args:\n",
    "    image (list): m x n 2-d list\n",
    "    '''\n",
    "    res = []\n",
    "    for i in range(len(image)):\n",
    "        tmp = []\n",
    "        for j in range(len(image[0])):\n",
    "            tmp.append(get_tdc(image[i][j]))\n",
    "        res.append(tmp)\n",
    "    return res"
   ]
  },
  {
   "cell_type": "code",
   "execution_count": 6,
   "id": "777ada34-dffa-4211-8ad6-f6cf22ee746b",
   "metadata": {},
   "outputs": [
    {
     "data": {
      "text/plain": [
       "True"
      ]
     },
     "execution_count": 6,
     "metadata": {},
     "output_type": "execute_result"
    }
   ],
   "source": [
    "# Verifying function\n",
    "get_temp_from_image(image)[0][0] == get_temp(image_lin[0])"
   ]
  },
  {
   "cell_type": "markdown",
   "id": "0a2bcd8c-f231-4999-a25d-ef1ac6f1f1ce",
   "metadata": {},
   "source": [
    "# Plotting the grid\n",
    "We define 2 functions in this section:\n",
    "1. `to_color` takes in an integer `temp` and optional `min_temp` and `max_temp` (default 10 and 150 respectively) and returns a rgb array. High temperatures will be presented as redness whereas low temperatures will be presented as blueness.\n",
    "2. `get_color_map` takes in a 2-d `image` of pixel ADTs and returns a color map based on the temperatures."
   ]
  },
  {
   "cell_type": "code",
   "execution_count": 7,
   "id": "e9df3a79-d8e3-4ad3-a3f2-40efd605bcc3",
   "metadata": {},
   "outputs": [],
   "source": [
    "import matplotlib.pyplot as plt\n",
    "%matplotlib inline"
   ]
  },
  {
   "cell_type": "markdown",
   "id": "54a365fd-0bf1-4a98-83dc-e1dd01046014",
   "metadata": {},
   "source": [
    "## Defining heat - color equivalency"
   ]
  },
  {
   "cell_type": "code",
   "execution_count": 8,
   "id": "17c6c705-8bf3-428d-88a7-c2ff01cfbab7",
   "metadata": {},
   "outputs": [],
   "source": [
    "def to_color(temp,min_temp = 0, max_temp = 100):\n",
    "    if temp < min_temp or temp > max_temp:\n",
    "        print(f\"Please enter a temperature between {min_temp} and {max_temp}!\")\n",
    "\n",
    "    # heat_index is a float with values from 0 to 1 showing how hot it is relative\n",
    "    # to min_temp and max_temp\n",
    "    heat_index = (temp - min_temp)/(max_temp - min_temp)\n",
    "    # the color will be red when hot and blue when cool\n",
    "    color = [heat_index,0.0,1-heat_index]\n",
    "    return color"
   ]
  },
  {
   "cell_type": "code",
   "execution_count": 9,
   "id": "d62b5d03-2134-4125-83a9-da3aa572ed45",
   "metadata": {},
   "outputs": [
    {
     "data": {
      "text/plain": [
       "[0.1, 0.0, 0.9]"
      ]
     },
     "execution_count": 9,
     "metadata": {},
     "output_type": "execute_result"
    }
   ],
   "source": [
    "to_color(10)"
   ]
  },
  {
   "cell_type": "markdown",
   "id": "b35a2ec2-fb2e-42e2-91dc-ee75210142f4",
   "metadata": {},
   "source": [
    "## Getting a color map"
   ]
  },
  {
   "cell_type": "code",
   "execution_count": 10,
   "id": "1de4fd8e-c0e4-45bd-b54f-2765fd42121e",
   "metadata": {},
   "outputs": [],
   "source": [
    "def get_color_map(image):\n",
    "    image = get_temp_from_image(image)\n",
    "    res = []\n",
    "    for i in range(len(image)):\n",
    "        tmp = []\n",
    "        for j in range(len(image[0])):\n",
    "            tmp.append(to_color(image[i][j]))\n",
    "        res.append(tmp)\n",
    "    return res"
   ]
  },
  {
   "cell_type": "code",
   "execution_count": 11,
   "id": "7e341d31-0d7c-4cb6-8fbd-c32191c09c13",
   "metadata": {},
   "outputs": [],
   "source": [
    "image_color = get_color_map(image)"
   ]
  },
  {
   "cell_type": "code",
   "execution_count": 12,
   "id": "f21937c9-dd2b-4c68-9156-3b348debb7b9",
   "metadata": {},
   "outputs": [
    {
     "data": {
      "text/plain": [
       "<matplotlib.image.AxesImage at 0x2ec76a7e510>"
      ]
     },
     "execution_count": 12,
     "metadata": {},
     "output_type": "execute_result"
    },
    {
     "data": {
      "image/png": "[encoded data removed]",
      "text/plain": [
       "<Figure size 640x480 with 1 Axes>"
      ]
     },
     "metadata": {},
     "output_type": "display_data"
    }
   ],
   "source": [
    "plt.imshow(image_color)"
   ]
  },
  {
   "cell_type": "markdown",
   "id": "f2a358f1-2da9-4258-928e-f60ffa71e41e",
   "metadata": {},
   "source": [
    "# Changing Temperatures"
   ]
  },
  {
   "cell_type": "markdown",
   "id": "b3bd0e16-c70c-472b-9ab1-6d4b3c109ebf",
   "metadata": {},
   "source": [
    "Here we define a function `kernel` that returns the final temperature of a target pixel after a time duration `t`. It uses the following equation:\\\n",
    "$$ \\Delta T = -k_*(T_*-T_{\\text{top}}-T_{\\text{bottom}}) \\times t$$\n",
    "**HUGE ASSUMPTIONS**\n",
    "1. Only the top and bottom pixels affect the change in temperature\n",
    "2. The change in temperature is directly proportional to the negative of the difference in temperatures\n",
    "3. The mass and specific heat capacity is unity (ie $\\Delta T = Q$, where $Q$ is the gain in heat energy)\n",
    "4. Only the $k$ of the pixel of interest affects its gain of heat."
   ]
  },
  {
   "cell_type": "code",
   "execution_count": 13,
   "id": "1c2324e5-9c21-473b-9521-13505ed7fb5f",
   "metadata": {},
   "outputs": [],
   "source": [
    "def kernel(image,i=0,j=0,t=0.1):\n",
    "    '''\n",
    "    This function takes in an image and the coordinates\n",
    "    of the pixel of interest and returns the final temperature (float)\n",
    "    of the pixel after time t\n",
    "\n",
    "    args:\n",
    "    image (list): m x n 2-d list\n",
    "    i (int): row number of pixel\n",
    "    j (int): column number of pixel\n",
    "    t (int): time interval\n",
    "    '''\n",
    "    # PART 1: GET THE TOP AND BOTTOM PIXEL DATA\n",
    "    #     1.1. Transpose to ease slicing\n",
    "    image_np = np.array(image)\n",
    "    image_np_T = np.transpose(image_np,(1,0,2)) # swap the first and second axes.\n",
    "    #     1.2. Access the pixels of interest\n",
    "    pixel_of_interest = image_np[i,j]\n",
    "    # account for top row pixels\n",
    "    # note that bottom row pixels dont need to be accounted for since out of bounds\n",
    "    # slicing is allowed\n",
    "    # top row pixels have to be accounted since arr[-1:2] will always return []\n",
    "    # unless len(arr) == 2, which is a trivial case\n",
    "    if i == 0:\n",
    "        pixels_in_contact = np.expand_dims(image_np_T[j,i+1],0) # returns lower pixel.\n",
    "    else:\n",
    "        pixels_in_contact = image_np_T[j,i-1:i+2:2] # returns array with upper pixel at index 0, lower at 1\n",
    "\n",
    "    if j == 0:\n",
    "        pixels_in_contact = np.concatenate((pixels_in_contact,np.expand_dims(image_np[i,j+1],0)),axis=0) # returns right pixel\n",
    "    else:\n",
    "        pixels_in_contact = np.concatenate((pixels_in_contact,image_np[i,j-1:j+2:2]),axis=0) # returns array with left pixel at index 0, right at 1\n",
    "    \n",
    "    # PART 2: CALCULATE FINAL TEMP OF PIXEL I,J\n",
    "    ini_temp_diff = len(pixels_in_contact) * get_temp(pixel_of_interest) - np.array(tuple(get_temp(pixel) for pixel in pixels_in_contact)).sum()\n",
    "    change_in_temp = -1 * get_tdc(pixel_of_interest) * ini_temp_diff * t\n",
    "    final_temp = get_temp(pixel_of_interest) + change_in_temp\n",
    "\n",
    "    \n",
    "    # Testing\n",
    "\n",
    "    # print(f\"\"\"\n",
    "    # Pixel of Interest is {pixel_of_interest}\n",
    "    # N Pixels in Contact is {len(pixels_in_contact)}\n",
    "    # Pixels in Contact: {pixels_in_contact}\n",
    "    # Initial Difference in Temperature is {ini_temp_diff}\n",
    "    # k is {get_tdc(pixel_of_interest)}\n",
    "    # Change in Temp is {change_in_temp}\n",
    "    # Final Temp is {final_temp}\n",
    "    # \"\"\")\n",
    "\n",
    "    \n",
    "    # return final_temp.item()\n",
    "    return final_temp\n",
    "\n",
    "    #notes:\n",
    "    # add error handling\n",
    "    # 1. if accessors doesnt work (eg trying to access data from scalar), return error message"
   ]
  },
  {
   "cell_type": "code",
   "execution_count": 14,
   "id": "cdf70aae-41ce-44e7-9948-eb978f366fb3",
   "metadata": {},
   "outputs": [],
   "source": [
    "# for i in range(len(image)):\n",
    "#     for j in range(len(image[0])):\n",
    "#         print(image[i][j],end=\" \")\n",
    "#     print(\"\\n\")"
   ]
  },
  {
   "cell_type": "code",
   "execution_count": 15,
   "id": "468f4b2c-8f7b-4632-b6fd-0d2a9f82d6af",
   "metadata": {},
   "outputs": [],
   "source": [
    "def step(image,timestep=0.1):\n",
    "    height = len(image)\n",
    "    width = len(image[0])\n",
    "\n",
    "    res = []\n",
    "    \n",
    "    for i in range(height):\n",
    "        temp_array = []\n",
    "        for j in range(width):\n",
    "            step_temperature = kernel(image,i,j,timestep)\n",
    "            temp_array.append(create_pixel(step_temperature,get_tdc(image[i][j])))\n",
    "        res.append(temp_array)\n",
    "\n",
    "    return res"
   ]
  },
  {
   "cell_type": "code",
   "execution_count": 16,
   "id": "a9c6ca0c-5196-46cc-8260-f201e83fecbe",
   "metadata": {},
   "outputs": [],
   "source": [
    "# plt.imshow(get_color_map(step(image)))"
   ]
  },
  {
   "cell_type": "markdown",
   "id": "ae7c8bf2-55d8-48b6-be37-c3d366c3dd92",
   "metadata": {},
   "source": [
    "Hypothesis:\\\n",
    "The timestep cannot be too big. try to plot a 2 3 grid plots with 2 second differences.\\\n",
    "in the first plot, step the image 20 times (timestep = 0.1)\\\n",
    "in the second plot, step the image 1 time (timestep = 2)\n",
    "\n",
    "Todo:\n",
    "1. Create a function that takes in an `image`, `timestep`, `interval`, `total_duration` and outputs a grid with `total_duration / interval` heatmaps\n",
    "2. Find a way to maintain constant heating"
   ]
  },
  {
   "cell_type": "code",
   "execution_count": 17,
   "id": "6ea6eaf9-84ff-409b-9848-2a771dbf7db4",
   "metadata": {},
   "outputs": [],
   "source": [
    "def plot_heatmaps(image,timestep,interval,total_duration):\n",
    "    n_plots = total_duration / interval\n",
    "    res = image\n",
    "    i = 0\n",
    "    arr_of_images = []\n",
    "    while i < n_plots:\n",
    "        print(f\"Creating plot no. {i+1} ...\")\n",
    "        j = 0\n",
    "        while j < (interval / timestep):\n",
    "            res = step(res,timestep)\n",
    "            j += 1\n",
    "        print(f\"Plot no. {i+1} created\")\n",
    "        arr_of_images.append(res)\n",
    "        i += 1\n",
    "    return arr_of_images"
   ]
  },
  {
   "cell_type": "code",
   "execution_count": 18,
   "id": "6dc531ba-2f09-4267-9bf2-933c95c8edee",
   "metadata": {},
   "outputs": [
    {
     "name": "stdout",
     "output_type": "stream",
     "text": [
      "Creating plot no. 1 ...\n",
      "Plot no. 1 created\n",
      "Creating plot no. 2 ...\n",
      "Plot no. 2 created\n",
      "Creating plot no. 3 ...\n",
      "Plot no. 3 created\n",
      "Creating plot no. 4 ...\n",
      "Plot no. 4 created\n",
      "Creating plot no. 5 ...\n",
      "Plot no. 5 created\n"
     ]
    }
   ],
   "source": [
    "arr = plot_heatmaps(image,0.1,40,200)"
   ]
  },
  {
   "cell_type": "code",
   "execution_count": 19,
   "id": "545932db-b117-4a70-b74a-1d800def2922",
   "metadata": {},
   "outputs": [
    {
     "data": {
      "text/plain": [
       "<matplotlib.image.AxesImage at 0x2ec76c01090>"
      ]
     },
     "execution_count": 19,
     "metadata": {},
     "output_type": "execute_result"
    },
    {
     "data": {
      "image/png": "[encoded data removed]",
      "text/plain": [
       "<Figure size 640x480 with 1 Axes>"
      ]
     },
     "metadata": {},
     "output_type": "display_data"
    }
   ],
   "source": [
    "plt.imshow(get_color_map(arr[0]))"
   ]
  },
  {
   "cell_type": "code",
   "execution_count": 20,
   "id": "6c5b12e5-fa46-4f71-a8ff-d1572262dfc1",
   "metadata": {},
   "outputs": [
    {
     "data": {
      "text/plain": [
       "<matplotlib.image.AxesImage at 0x2ec76c8d950>"
      ]
     },
     "execution_count": 20,
     "metadata": {},
     "output_type": "execute_result"
    },
    {
     "data": {
      "image/png": "[encoded data removed]",
      "text/plain": [
       "<Figure size 640x480 with 1 Axes>"
      ]
     },
     "metadata": {},
     "output_type": "display_data"
    }
   ],
   "source": [
    "plt.imshow(get_color_map(arr[1]))"
   ]
  },
  {
   "cell_type": "code",
   "execution_count": 21,
   "id": "b24c25fe-e975-4d96-ad44-62135f6020b8",
   "metadata": {},
   "outputs": [
    {
     "data": {
      "text/plain": [
       "<matplotlib.image.AxesImage at 0x2ec78d4d810>"
      ]
     },
     "execution_count": 21,
     "metadata": {},
     "output_type": "execute_result"
    },
    {
     "data": {
      "image/png": "[encoded data removed]",
      "text/plain": [
       "<Figure size 640x480 with 1 Axes>"
      ]
     },
     "metadata": {},
     "output_type": "display_data"
    }
   ],
   "source": [
    "plt.imshow(get_color_map(arr[2]))"
   ]
  },
  {
   "cell_type": "code",
   "execution_count": 22,
   "id": "bae031a9-5ca4-4294-a069-41cb76ff43bd",
   "metadata": {},
   "outputs": [
    {
     "data": {
      "text/plain": [
       "<matplotlib.image.AxesImage at 0x2ec78dd9450>"
      ]
     },
     "execution_count": 22,
     "metadata": {},
     "output_type": "execute_result"
    },
    {
     "data": {
      "image/png": "[encoded data removed]",
      "text/plain": [
       "<Figure size 640x480 with 1 Axes>"
      ]
     },
     "metadata": {},
     "output_type": "display_data"
    }
   ],
   "source": [
    "plt.imshow(get_color_map(arr[3]))"
   ]
  },
  {
   "cell_type": "code",
   "execution_count": 23,
   "id": "c66810cd-b4bc-44d2-b4af-2d03b1a18c37",
   "metadata": {},
   "outputs": [
    {
     "data": {
      "text/plain": [
       "<matplotlib.image.AxesImage at 0x2ec78e65090>"
      ]
     },
     "execution_count": 23,
     "metadata": {},
     "output_type": "execute_result"
    },
    {
     "data": {
      "image/png": "[encoded data removed]",
      "text/plain": [
       "<Figure size 640x480 with 1 Axes>"
      ]
     },
     "metadata": {},
     "output_type": "display_data"
    }
   ],
   "source": [
    "plt.imshow(get_color_map(arr[4]))"
   ]
  },
  {
   "cell_type": "code",
   "execution_count": null,
   "id": "2382179a-414a-4445-8ed0-bb8a9474d693",
   "metadata": {},
   "outputs": [],
   "source": []
  }
 ],
 "metadata": {
  "kernelspec": {
   "display_name": "Python 3 (ipykernel)",
   "language": "python",
   "name": "python3"
  },
  "language_info": {
   "codemirror_mode": {
    "name": "ipython",
    "version": 3
   },
   "file_extension": ".py",
   "mimetype": "text/x-python",
   "name": "python",
   "nbconvert_exporter": "python",
   "pygments_lexer": "ipython3",
   "version": "3.13.2"
  }
 },
 "nbformat": 4,
 "nbformat_minor": 5
}
